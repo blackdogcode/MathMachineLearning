{
 "cells": [
  {
   "cell_type": "code",
   "execution_count": 47,
   "metadata": {
    "collapsed": true,
    "pycharm": {
     "name": "#%%\n"
    }
   },
   "outputs": [],
   "source": [
    "import numpy as np\n",
    "import matplotlib.pyplot as plt"
   ]
  },
  {
   "cell_type": "code",
   "execution_count": 48,
   "outputs": [],
   "source": [
    "D1 = np.array([[1.0, 1.2, 3, 4, 5, 6],\n",
    "              [1.5, 3, 2.3, 5.3, 3.8, 5.5]])\n",
    "D2 = np.array([[-0.6, 1.0, 1.2, 3, 4, 5, 6],\n",
    "              [2.9, 1.5, 3, 2.3, 5.3, 3.8, 5.5]])"
   ],
   "metadata": {
    "collapsed": false,
    "pycharm": {
     "name": "#%%\n"
    }
   }
  },
  {
   "cell_type": "code",
   "execution_count": 49,
   "outputs": [],
   "source": [
    "%matplotlib qt\n",
    "\n",
    "fig, (ax1, ax2) = plt.subplots(1, 2, sharex=True, sharey=True)\n",
    "fig.set_size_inches((15, 6))\n",
    "\n",
    "ax1.plot(D1[0], D1[1], 'ko', markersize=10)\n",
    "ax1.set_xlim([-1, 7])\n",
    "ax1.set_ylim([1, 6])\n",
    "ax1.set_title('D1', fontsize=10)\n",
    "\n",
    "ax2.plot(D2[0], D2[1], 'ko', markersize=10)\n",
    "ax2.set_xlim([-1, 7])\n",
    "ax2.set_ylim([1, 6])\n",
    "ax2.set_title('D2', fontsize=10)\n",
    "\n",
    "plt.show()"
   ],
   "metadata": {
    "collapsed": false,
    "pycharm": {
     "name": "#%%\n"
    }
   }
  },
  {
   "cell_type": "code",
   "execution_count": 50,
   "outputs": [],
   "source": [
    "def machine_learning(D):\n",
    "    N = D.shape[1]\n",
    "    X = np.c_[np.ones(N), D[0]]\n",
    "    y = D[1]\n",
    "\n",
    "    w = np.linalg.solve(np.dot(X.T, X), np.dot(X.T, y))\n",
    "    return w"
   ],
   "metadata": {
    "collapsed": false,
    "pycharm": {
     "name": "#%%\n"
    }
   }
  },
  {
   "cell_type": "code",
   "execution_count": 51,
   "outputs": [],
   "source": [
    "def more_clever(D):\n",
    "    first, last = D[:,0], D[:,-1]\n",
    "    w1 = (last[1]-first[1]) / (last[0]-first[0])\n",
    "    w0 = -w1 * first[0] + first[1]\n",
    "\n",
    "    return (w0, w1)"
   ],
   "metadata": {
    "collapsed": false,
    "pycharm": {
     "name": "#%%\n"
    }
   }
  },
  {
   "cell_type": "code",
   "execution_count": 52,
   "outputs": [],
   "source": [
    "def f(x, w):\n",
    "    return w[1] * x + w[0]"
   ],
   "metadata": {
    "collapsed": false,
    "pycharm": {
     "name": "#%%\n"
    }
   }
  },
  {
   "cell_type": "code",
   "execution_count": 56,
   "outputs": [],
   "source": [
    "%matplotlib qt\n",
    "\n",
    "w_m1_d1 = machine_learning(D1)\n",
    "w_mc_d1 = more_clever(D1)\n",
    "\n",
    "w_ml_d2 = machine_learning(D2)\n",
    "w_mc_d2 = more_clever(D2)\n",
    "\n",
    "x = np.linspace(-1, 7, 100)\n",
    "\n",
    "fig, (ax1, ax2) = plt.subplots(1, 2, sharex=True, sharey=True)\n",
    "fig.set_size_inches((15, 6))\n",
    "\n",
    "ax1.plot(D1[0], D1[1], 'ko', markersize=10)\n",
    "ax1.plot(x, f(x, w_m1_d1), c='k', lw=2, label='machine learning')\n",
    "ax1.plot(x, f(x, w_mc_d1), '--', c='k', lw=2, label='more clever')\n",
    "ax1.set_xlim([-1, 7])\n",
    "ax1.set_ylim([1, 6])\n",
    "ax1.legend(fontsize=18)\n",
    "\n",
    "ax2.plot(D2[0], D2[1], 'ko', markersize=10)\n",
    "ax2.plot(x, f(x, w_ml_d2), c='k', lw=2, label='machine learning')\n",
    "ax2.plot(x, f(x, w_mc_d2), '--', c='k', lw=2, label='more clever')\n",
    "ax2.set_xlim([-1, 7])\n",
    "ax2.set_ylim([1, 6])\n",
    "ax2.legend(fontsize=18)\n",
    "\n",
    "plt.show()"
   ],
   "metadata": {
    "collapsed": false,
    "pycharm": {
     "name": "#%%\n"
    }
   }
  },
  {
   "cell_type": "code",
   "execution_count": null,
   "outputs": [],
   "source": [],
   "metadata": {
    "collapsed": false,
    "pycharm": {
     "name": "#%%\n"
    }
   }
  }
 ],
 "metadata": {
  "kernelspec": {
   "display_name": "Python 3",
   "language": "python",
   "name": "python3"
  },
  "language_info": {
   "codemirror_mode": {
    "name": "ipython",
    "version": 2
   },
   "file_extension": ".py",
   "mimetype": "text/x-python",
   "name": "python",
   "nbconvert_exporter": "python",
   "pygments_lexer": "ipython2",
   "version": "2.7.6"
  }
 },
 "nbformat": 4,
 "nbformat_minor": 0
}